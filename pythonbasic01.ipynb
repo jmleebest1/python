{
  "nbformat": 4,
  "nbformat_minor": 0,
  "metadata": {
    "colab": {
      "name": "pythonbasic01.ipynb",
      "provenance": [],
      "collapsed_sections": [],
      "authorship_tag": "ABX9TyO/sZeiYYvC4MGtRALJjcmJ",
      "include_colab_link": true
    },
    "kernelspec": {
      "name": "python3",
      "display_name": "Python 3"
    },
    "language_info": {
      "name": "python"
    }
  },
  "cells": [
    {
      "cell_type": "markdown",
      "metadata": {
        "id": "view-in-github",
        "colab_type": "text"
      },
      "source": [
        "<a href=\"https://colab.research.google.com/github/jmleebest1/python/blob/main/pythonbasic01.ipynb\" target=\"_parent\"><img src=\"https://colab.research.google.com/assets/colab-badge.svg\" alt=\"Open In Colab\"/></a>"
      ]
    },
    {
      "cell_type": "code",
      "source": [
        "# 1 기본 - 소개/역사/특징 About Python\n",
        "\n",
        "# 컴파일러 : 자바, C, C++\n",
        "# 인터프리터 : 파이썬, R\n",
        "\n",
        "# 파이썬은 영어와 문법이 아주 유사하여 사람이 이해하기 쉽다\n",
        "# 많은 개발자가 참여하여 무료로 공유되는 코드가 많다.\n",
        "\n",
        "# 창시자 - 귀도반로썸 (1956~), 네덜란드 구글 -> 드랍박스(클라우드 원조) -> 마이크로소프트(2020)\n",
        "\n",
        "# 1. 사용이 쉽다.\n",
        "# 2. 강력하다.\n",
        "# 3. 객체지향언어\n",
        "# 4. 어디에서나 실행된다.\n",
        "# 5. 사용자가 많다.\n",
        "# 6. 무료이다."
      ],
      "metadata": {
        "id": "-FpBShapS8Eu"
      },
      "execution_count": null,
      "outputs": []
    },
    {
      "cell_type": "code",
      "source": [
        "# 2 개발환경 - 온라인 Online IDE\n",
        "\n",
        "# ***Colab\n",
        "# Repl\n",
        "# 구름IDE"
      ],
      "metadata": {
        "id": "ooOLOAnSV2ni"
      },
      "execution_count": null,
      "outputs": []
    },
    {
      "cell_type": "code",
      "source": [
        "# 3 개발환경 - 오프라인 Offline IDE\n",
        "\n",
        "# FM\n",
        "# 파이썬 -> 파이참(ide)\n",
        "\n",
        "# Anaconda = 파이썬 + Jupyter Notebook(ide) + a + b + c"
      ],
      "metadata": {
        "id": "nBJQs7F1WDan"
      },
      "execution_count": null,
      "outputs": []
    },
    {
      "cell_type": "code",
      "source": [
        "print(\"Hello world\")"
      ],
      "metadata": {
        "colab": {
          "base_uri": "https://localhost:8080/"
        },
        "id": "4mJ3VHxrcZUQ",
        "outputId": "c53138b5-8cb0-48a5-a0e5-e95402865726"
      },
      "execution_count": 1,
      "outputs": [
        {
          "output_type": "stream",
          "name": "stdout",
          "text": [
            "Hello world\n"
          ]
        }
      ]
    },
    {
      "cell_type": "code",
      "source": [
        "# 6 기초 - 주석/변수 Comment/Variable\n",
        "\n",
        "# 자바에서의 주석 //   /*   */ 처럼 파이썬에서는 #을 주석 기호로 사용한다.\n",
        "# \"\"\" \"\"\" 삼중 따옴표로 여러줄 주석처럼 사용한다. -> docstring\n",
        "\n",
        "\"\"\"\n",
        "프로그램 버전 : 0.1\n",
        "프로그램 작성자 : 홍길동\n",
        "프로그램 작성일 : 2022/05/31\n",
        "\"\"\"\n",
        "\n",
        "# 프로그램 버전 : 0.1\n",
        "# 프로그램 작성자 : 홍길동\n",
        "# 프로그램 작성일 : 2022/05/31\n",
        "\n",
        "# 구문의 위에 삽입\n",
        "print(\"Hellow World\") # 구문의 우측에 삽입\n",
        "# 구문의 하단에 삽입\n",
        "\n",
        "\n",
        "# 주석의 또다른 용법 : 원래 주석의 기본적인 의미는 코드에 대한 설명이지만\n",
        "#                      주석의 또다른 중요한 용법은 코드의 일부를 일시 정지시키는 용도\n",
        "\n",
        "print(\"Hello\")\n",
        "# print(\"World\") # 코드에 주석을 사용하여 임시로 동작을 하지 않게 만드는 역할\n",
        "print(\"python\")\n",
        "print('python') # 파이썬에서는 '' \"\" 가 완전히 동일하게 사용된다.\n",
        "\n",
        "print(\"Austin's pie\") # 기호로써의 ''를 표시하고 싶을때는 \"\"를 사용하여 열고 닫는다.\n",
        "print('Austin\\'s pie')"
      ],
      "metadata": {
        "colab": {
          "base_uri": "https://localhost:8080/"
        },
        "id": "4DqJFVuAic_3",
        "outputId": "f85ebc95-b79a-4842-cd91-82391018f0db"
      },
      "execution_count": 8,
      "outputs": [
        {
          "output_type": "stream",
          "name": "stdout",
          "text": [
            "Hellow World\n",
            "Hello\n",
            "python\n",
            "python\n",
            "Austin's pie\n",
            "Austin's pie\n"
          ]
        }
      ]
    },
    {
      "cell_type": "code",
      "source": [
        "# 변수\n",
        "\n",
        "# 자바나 C 등의 언어와는 달리 변수를 선언할 때 앞에서 형을 정해주지 않는다.\n",
        "# 선언과 동시에 파이썬이 데이터를 알아서 정수인지 문자열인지 판단을 하여 저장한다.\n",
        "\n",
        "age = 21\n",
        "name = \"홍길동\"\n",
        "\n",
        "age, name = 21, \"홍길동\"\n",
        "\n",
        "# 변수명 선언 방법/규칙\n",
        "\n",
        "# 1 문자 숫자 _만 사용\n",
        "# 2 숫자로 시작할수는 없다. A100(o) 100A(x)\n",
        "# 3 예약어는 사용할 수 없다. print, class ...\n",
        "# 4 대소문자를 구분한다. a = 100, A = 100 별개의 변수\n",
        "# 5 변수명은 영어로만 만들자 (한글로도 만들수는 있다.)"
      ],
      "metadata": {
        "colab": {
          "base_uri": "https://localhost:8080/"
        },
        "id": "9nbC9575k1bs",
        "outputId": "b2bff852-73a6-4c2d-9bf0-f48d1bc9da75"
      },
      "execution_count": 4,
      "outputs": [
        {
          "output_type": "execute_result",
          "data": {
            "text/plain": [
              "str"
            ]
          },
          "metadata": {},
          "execution_count": 4
        }
      ]
    },
    {
      "cell_type": "code",
      "source": [
        "# \n",
        "\n",
        "korea = 63000\n",
        "total=korea*100\n",
        "print(total)"
      ],
      "metadata": {
        "colab": {
          "base_uri": "https://localhost:8080/"
        },
        "id": "SrYjfXnnoIwp",
        "outputId": "2e936bc1-9aab-4e2d-c1ea-4272eba97e41"
      },
      "execution_count": 5,
      "outputs": [
        {
          "output_type": "stream",
          "name": "stdout",
          "text": [
            "6300000\n"
          ]
        }
      ]
    },
    {
      "cell_type": "code",
      "source": [
        "43/4"
      ],
      "metadata": {
        "colab": {
          "base_uri": "https://localhost:8080/"
        },
        "id": "W17w9ZtBtoIO",
        "outputId": "4390e820-6cf7-447b-a6ce-489470b2b230"
      },
      "execution_count": 10,
      "outputs": [
        {
          "output_type": "execute_result",
          "data": {
            "text/plain": [
              "10.75"
            ]
          },
          "metadata": {},
          "execution_count": 10
        }
      ]
    },
    {
      "cell_type": "code",
      "source": [
        "43//4"
      ],
      "metadata": {
        "colab": {
          "base_uri": "https://localhost:8080/"
        },
        "id": "0F-mrD_5timq",
        "outputId": "5c9811c3-d086-4e12-8303-e92e21a1c6c3"
      },
      "execution_count": 9,
      "outputs": [
        {
          "output_type": "execute_result",
          "data": {
            "text/plain": [
              "10"
            ]
          },
          "metadata": {},
          "execution_count": 9
        }
      ]
    },
    {
      "cell_type": "code",
      "source": [
        "43%4 # % 나머지 연산자로 홀수/짝수/배수를 알아낼 수 있다."
      ],
      "metadata": {
        "colab": {
          "base_uri": "https://localhost:8080/"
        },
        "id": "k11Wf6Uktpu7",
        "outputId": "7c1c030b-211a-4db2-a185-7be73d055c82"
      },
      "execution_count": 11,
      "outputs": [
        {
          "output_type": "execute_result",
          "data": {
            "text/plain": [
              "3"
            ]
          },
          "metadata": {},
          "execution_count": 11
        }
      ]
    },
    {
      "cell_type": "code",
      "source": [
        "# 불형 bool or boolean -> True, False 주의 : true false 와는 다르다.\n",
        "1 == 1"
      ],
      "metadata": {
        "colab": {
          "base_uri": "https://localhost:8080/"
        },
        "id": "IN3r1ZOPvGBD",
        "outputId": "978582d3-e041-4db2-f946-8fb241e8e77c"
      },
      "execution_count": 13,
      "outputs": [
        {
          "output_type": "execute_result",
          "data": {
            "text/plain": [
              "True"
            ]
          },
          "metadata": {},
          "execution_count": 13
        }
      ]
    },
    {
      "cell_type": "code",
      "source": [
        "1 != 1"
      ],
      "metadata": {
        "colab": {
          "base_uri": "https://localhost:8080/"
        },
        "id": "mFizG4VpvL81",
        "outputId": "ee4a17c3-6357-4ac3-b6a3-dd8f11775ac3"
      },
      "execution_count": 15,
      "outputs": [
        {
          "output_type": "execute_result",
          "data": {
            "text/plain": [
              "False"
            ]
          },
          "metadata": {},
          "execution_count": 15
        }
      ]
    },
    {
      "cell_type": "code",
      "source": [
        "# 문자열...\n",
        "\n",
        "name1 = \"Jaemin\" #파이썬에서는 큰따옴표와\n",
        "name2 = 'jaemin' #작은 따옴표 모두 문자열을 나타낸다.\n",
        "age = \"30\"       # 숫자라도 따옴표가 있으면 문자로 처리된다.\n",
        "age = 30         # 숫자는 따옴표가 없다.\n",
        "\n",
        "# 문자열에서의 인덱싱 = 몇 번째 글자 하나\n",
        "\n",
        "words = \"I love you\" # 어떤 문자열에서 글자하나만 추출 예) v 추출\n",
        "print(words[4])\n",
        "\n",
        "# 파이썬에서의 독특한 인덱싱 방법, 마지막 한글자만 추출\n",
        "print(words[-1])\n",
        "\n",
        "# 문자열에서의 슬라이싱 - 글자 여러개\n",
        "words = \"I love you\"\n",
        "print(words[2:6]) #[시작:끝(미만)] [시작:끝(미만):증감] [start:stop:step]\n",
        "words[2:6:1] # step은 생략 가능 생략하면 1\n",
        "print(words[:6:1]) # 시작을 생략하면 0부터 시작\n",
        "print(words[2::1]) # 끝을 생략하면 마지막까지\n",
        "print(words[::2]) # 하나씩 건너 뛸때\n",
        "\n",
        "# 문자열에서의 인덱싱과 슬라이싱 기법은 그대로 리스트와 튜플에서도 동일하게 사용된다.\n",
        "\n",
        "word = \"LOVE\"\n",
        "print(word[::-1])\n",
        "\n",
        "word = \"He is good, All the time\"\n",
        "print(word[-4:])\n"
      ],
      "metadata": {
        "id": "iyvQbl3BvPLm"
      },
      "execution_count": null,
      "outputs": []
    },
    {
      "cell_type": "code",
      "source": [
        "# 출력 print\n",
        "\n",
        "word = \"He is good, All the time\"\n",
        "print(word)"
      ],
      "metadata": {
        "colab": {
          "base_uri": "https://localhost:8080/"
        },
        "id": "UCvo0Q960eQI",
        "outputId": "f9d18172-602e-4220-b73c-14f775f090b0"
      },
      "execution_count": 35,
      "outputs": [
        {
          "output_type": "stream",
          "name": "stdout",
          "text": [
            "He is good, All the time\n"
          ]
        }
      ]
    },
    {
      "cell_type": "code",
      "source": [
        "who = \"He\"\n",
        "print(who,\"is good, All the time\")"
      ],
      "metadata": {
        "colab": {
          "base_uri": "https://localhost:8080/"
        },
        "id": "Kjc_QnlV0y24",
        "outputId": "100ff8f3-7763-4616-9168-365161410d80"
      },
      "execution_count": 38,
      "outputs": [
        {
          "output_type": "stream",
          "name": "stdout",
          "text": [
            "He is good, All the time\n"
          ]
        }
      ]
    },
    {
      "cell_type": "code",
      "source": [
        "who = \"He\"\n",
        "print(\"%s is good, All the time\" % who)"
      ],
      "metadata": {
        "colab": {
          "base_uri": "https://localhost:8080/"
        },
        "id": "VoJM1MCR1H7y",
        "outputId": "bc80b2ac-c00b-47ce-f688-3638e1395809"
      },
      "execution_count": 39,
      "outputs": [
        {
          "output_type": "stream",
          "name": "stdout",
          "text": [
            "He is good, All the time\n"
          ]
        }
      ]
    },
    {
      "cell_type": "code",
      "source": [
        "who = \"He\"\n",
        "print(\"{} is good, All the time\".format(who))"
      ],
      "metadata": {
        "colab": {
          "base_uri": "https://localhost:8080/"
        },
        "id": "dmmXBQ1k1b0y",
        "outputId": "3b89f90a-e235-4cc7-9ea0-bd746ae6bd8b"
      },
      "execution_count": 40,
      "outputs": [
        {
          "output_type": "stream",
          "name": "stdout",
          "text": [
            "He is good, All the time\n"
          ]
        }
      ]
    },
    {
      "cell_type": "code",
      "source": [
        "who = \"He\"\n",
        "print(f'{who} is good, All the time')"
      ],
      "metadata": {
        "colab": {
          "base_uri": "https://localhost:8080/"
        },
        "id": "Q4r55B2-1r7W",
        "outputId": "7581b9a3-d204-4683-ff5d-ce7ec5b55fdc"
      },
      "execution_count": 41,
      "outputs": [
        {
          "output_type": "stream",
          "name": "stdout",
          "text": [
            "He is good, All the time\n"
          ]
        }
      ]
    },
    {
      "cell_type": "code",
      "source": [
        "name = \"홍길동\"\n",
        "age = 20\n",
        "\n",
        "# 나의 이름은 홍길동이고 나이는 20살 입니다.\n",
        "print(\"나의 이름은 \" f'{name}이고 나이는 ' f'{age}살 입니다.')\n",
        "print(f\"나의 이름은 {name}이고 나이는 {age}살 입니다.\")\n",
        "\n",
        "name = \"Jaemin\"\n",
        "age = 20\n",
        "\n",
        "# 방법 1 기본 출력\n",
        "print (\"안녕하세요. 나의 이름은 Jaemin이며 나이는 20살 입니다. \")\n",
        "\n",
        "# 방법 2 % 포멧터 출력\n",
        "print (\"안녕하세요. 나의 이름은 %s이며 나이는 %s살 입니다. \" % (name, age))\n",
        "\n",
        "# 방법 3 format 매서드 출력\n",
        "print (\"안녕하세요. 나의 이름은 {}이며 나이는 {}살 입니다. \".format(name, age))\n",
        "\n",
        "# 방법 4\n",
        "print (f\"안녕하세요. 나의 이름은 {name}이며 나이는 {age}살 입니다. \")\n"
      ],
      "metadata": {
        "colab": {
          "base_uri": "https://localhost:8080/"
        },
        "id": "B-PHIkPq2CuT",
        "outputId": "f6d4c17a-e033-47a8-a367-34df730a1a5d"
      },
      "execution_count": 52,
      "outputs": [
        {
          "output_type": "stream",
          "name": "stdout",
          "text": [
            "나의 이름은 홍길동이고 나이는 20살 입니다.\n",
            "나의 이름은 홍길동이고 나이는 20살 입니다.\n"
          ]
        }
      ]
    }
  ]
}