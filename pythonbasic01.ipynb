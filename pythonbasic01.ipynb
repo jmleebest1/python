{
  "nbformat": 4,
  "nbformat_minor": 0,
  "metadata": {
    "colab": {
      "name": "pythonbasic01.ipynb",
      "provenance": [],
      "collapsed_sections": [],
      "authorship_tag": "ABX9TyMnpdug+FUvGCUjU8mkHD7n",
      "include_colab_link": true
    },
    "kernelspec": {
      "name": "python3",
      "display_name": "Python 3"
    },
    "language_info": {
      "name": "python"
    }
  },
  "cells": [
    {
      "cell_type": "markdown",
      "metadata": {
        "id": "view-in-github",
        "colab_type": "text"
      },
      "source": [
        "<a href=\"https://colab.research.google.com/github/jmleebest1/python/blob/main/pythonbasic01.ipynb\" target=\"_parent\"><img src=\"https://colab.research.google.com/assets/colab-badge.svg\" alt=\"Open In Colab\"/></a>"
      ]
    },
    {
      "cell_type": "code",
      "source": [
        "# 1 기본 - 소개/역사/특징 About Python\n",
        "\n",
        "# 컴파일러 : 자바, C, C++\n",
        "# 인터프리터 : 파이썬, R\n",
        "\n",
        "# 파이썬은 영어와 문법이 아주 유사하여 사람이 이해하기 쉽다\n",
        "# 많은 개발자가 참여하여 무료로 공유되는 코드가 많다.\n",
        "\n",
        "# 창시자 - 귀도반로썸 (1956~), 네덜란드 구글 -> 드랍박스(클라우드 원조) -> 마이크로소프트(2020)\n",
        "\n",
        "# 1. 사용이 쉽다.\n",
        "# 2. 강력하다.\n",
        "# 3. 객체지향언어\n",
        "# 4. 어디에서나 실행된다.\n",
        "# 5. 사용자가 많다.\n",
        "# 6. 무료이다."
      ],
      "metadata": {
        "id": "-FpBShapS8Eu"
      },
      "execution_count": null,
      "outputs": []
    },
    {
      "cell_type": "code",
      "source": [
        "# 2 개발환경 - 온라인 Online IDE\n",
        "\n",
        "# ***Colab\n",
        "# Repl\n",
        "# 구름IDE"
      ],
      "metadata": {
        "id": "ooOLOAnSV2ni"
      },
      "execution_count": null,
      "outputs": []
    },
    {
      "cell_type": "code",
      "source": [
        "# 3 개발환경 - 오프라인 Offline IDE\n",
        "\n",
        "# FM\n",
        "# 파이썬 -> 파이참(ide)\n",
        "\n",
        "# Anaconda = 파이썬 + Jupyter Notebook(ide) + a + b + c"
      ],
      "metadata": {
        "id": "nBJQs7F1WDan"
      },
      "execution_count": null,
      "outputs": []
    },
    {
      "cell_type": "code",
      "source": [
        "print(\"Hello world\")"
      ],
      "metadata": {
        "colab": {
          "base_uri": "https://localhost:8080/"
        },
        "id": "4mJ3VHxrcZUQ",
        "outputId": "c53138b5-8cb0-48a5-a0e5-e95402865726"
      },
      "execution_count": 1,
      "outputs": [
        {
          "output_type": "stream",
          "name": "stdout",
          "text": [
            "Hello world\n"
          ]
        }
      ]
    }
  ]
}